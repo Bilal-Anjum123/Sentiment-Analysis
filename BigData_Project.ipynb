{
  "cells": [
    {
      "cell_type": "code",
      "execution_count": 1,
      "metadata": {
        "colab": {
          "base_uri": "https://localhost:8080/"
        },
        "id": "995jyqUQ_-BH",
        "outputId": "de93c240-26c0-449c-dcf4-0593169e3c3c"
      },
      "outputs": [
        {
          "output_type": "stream",
          "name": "stdout",
          "text": [
            "Requirement already satisfied: pyspark in /usr/local/lib/python3.11/dist-packages (3.5.4)\n",
            "Requirement already satisfied: py4j==0.10.9.7 in /usr/local/lib/python3.11/dist-packages (from pyspark) (0.10.9.7)\n"
          ]
        }
      ],
      "source": [
        "#Installing Pyspark\n",
        "!pip3 install pyspark"
      ]
    },
    {
      "cell_type": "markdown",
      "metadata": {
        "id": "bnujyXjUCJp3"
      },
      "source": [
        "# Configuring the enviorment and importing the data"
      ]
    },
    {
      "cell_type": "code",
      "execution_count": 3,
      "metadata": {
        "id": "1HTXcSfXAKIZ"
      },
      "outputs": [],
      "source": [
        "from pyspark import SparkConf, SparkContext\n",
        "import collections #Do Python"
      ]
    },
    {
      "cell_type": "code",
      "execution_count": 4,
      "metadata": {
        "id": "Otb5lZPVAbRx"
      },
      "outputs": [],
      "source": [
        "conf = SparkConf().setMaster(\"local\").setAppName(\"olamundo\")\n",
        "sc = SparkContext(conf= conf)"
      ]
    },
    {
      "cell_type": "code",
      "execution_count": 5,
      "metadata": {
        "id": "ZBFDYDY6BdbL"
      },
      "outputs": [],
      "source": [
        "from pyspark.sql import SparkSession"
      ]
    },
    {
      "cell_type": "code",
      "execution_count": 6,
      "metadata": {
        "id": "QqHYDsZ2Bdqr"
      },
      "outputs": [],
      "source": [
        "spark = SparkSession.builder.appName('primeira-versao').getOrCreate()"
      ]
    },
    {
      "cell_type": "code",
      "execution_count": 7,
      "metadata": {
        "id": "LKLbg0y7BB2E"
      },
      "outputs": [],
      "source": [
        "df = spark.read.csv('/content/wta_matches_2020.csv', header = True, inferSchema=True)"
      ]
    },
    {
      "cell_type": "code",
      "execution_count": 8,
      "metadata": {
        "colab": {
          "base_uri": "https://localhost:8080/"
        },
        "id": "huPf-slsBVRc",
        "outputId": "6a78dd10-8056-41c2-954a-a134b2cf7474"
      },
      "outputs": [
        {
          "output_type": "execute_result",
          "data": {
            "text/plain": [
              "[Row(tourney_id='2020-1049', tourney_name='Auckland', surface='Hard', draw_size=32, tourney_level='I', tourney_date=20200106, match_num=300, winner_id=200033, winner_seed=1, winner_entry=None, winner_name='Serena Williams', winner_hand='R', winner_ht=175, winner_ioc='USA', winner_age=38.2778918549, loser_id=202468, loser_seed=None, loser_entry=None, loser_name='Jessica Pegula', loser_hand='R', loser_ht=None, loser_ioc='USA', loser_age=25.864476386, score='6-3 6-4', best_of=3, round='F', minutes=95, w_ace=2, w_df=0, w_svpt=66, w_1stIn=43, w_1stWon=31, w_2ndWon=14, w_SvGms=10, w_bpSaved=4, w_bpFaced=5, l_ace=4, l_df=3, l_svpt=80, l_1stIn=50, l_1stWon=31, l_2ndWon=12, l_SvGms=9, l_bpSaved=12, l_bpFaced=15, winner_rank=10, winner_rank_points=3935, loser_rank=82, loser_rank_points=743),\n",
              " Row(tourney_id='2020-1049', tourney_name='Auckland', surface='Hard', draw_size=32, tourney_level='I', tourney_date=20200106, match_num=299, winner_id=200033, winner_seed=1, winner_entry=None, winner_name='Serena Williams', winner_hand='R', winner_ht=175, winner_ioc='USA', winner_age=38.2778918549, loser_id=216153, loser_seed=3, loser_entry=None, loser_name='Amanda Anisimova', loser_hand='R', loser_ht=None, loser_ioc='USA', loser_age=18.3490759754, score='6-1 6-1', best_of=3, round='SF', minutes=43, w_ace=5, w_df=0, w_svpt=38, w_1stIn=26, w_1stWon=20, w_2ndWon=9, w_SvGms=7, w_bpSaved=1, w_bpFaced=1, l_ace=1, l_df=3, l_svpt=36, l_1stIn=22, l_1stWon=12, l_2ndWon=2, l_SvGms=7, l_bpSaved=0, l_bpFaced=5, winner_rank=10, winner_rank_points=3935, loser_rank=25, loser_rank_points=1734),\n",
              " Row(tourney_id='2020-1049', tourney_name='Auckland', surface='Hard', draw_size=32, tourney_level='I', tourney_date=20200106, match_num=298, winner_id=202468, winner_seed=None, winner_entry=None, winner_name='Jessica Pegula', winner_hand='R', winner_ht=None, winner_ioc='USA', winner_age=25.864476386, loser_id=201496, loser_seed=5, loser_entry=None, loser_name='Caroline Wozniacki', loser_hand='R', loser_ht=177, loser_ioc='DEN', loser_age=29.4893908282, score='3-6 6-4 6-0', best_of=3, round='SF', minutes=113, w_ace=2, w_df=3, w_svpt=86, w_1stIn=54, w_1stWon=37, w_2ndWon=16, w_SvGms=12, w_bpSaved=6, w_bpFaced=9, l_ace=4, l_df=3, l_svpt=79, l_1stIn=56, l_1stWon=34, l_2ndWon=9, l_SvGms=13, l_bpSaved=7, l_bpFaced=13, winner_rank=82, winner_rank_points=743, loser_rank=39, loser_rank_points=1353),\n",
              " Row(tourney_id='2020-1049', tourney_name='Auckland', surface='Hard', draw_size=32, tourney_level='I', tourney_date=20200106, match_num=297, winner_id=200033, winner_seed=1, winner_entry=None, winner_name='Serena Williams', winner_hand='R', winner_ht=175, winner_ioc='USA', winner_age=38.2778918549, loser_id=201696, loser_seed=None, loser_entry=None, loser_name='Laura Siegemund', loser_hand='R', loser_ht=None, loser_ioc='GER', loser_age=31.8412046543, score='6-4 6-3', best_of=3, round='QF', minutes=88, w_ace=6, w_df=3, w_svpt=60, w_1stIn=34, w_1stWon=25, w_2ndWon=15, w_SvGms=10, w_bpSaved=5, w_bpFaced=6, l_ace=1, l_df=1, l_svpt=55, l_1stIn=45, l_1stWon=26, l_2ndWon=5, l_SvGms=9, l_bpSaved=1, l_bpFaced=4, winner_rank=10, winner_rank_points=3935, loser_rank=73, loser_rank_points=805),\n",
              " Row(tourney_id='2020-1049', tourney_name='Auckland', surface='Hard', draw_size=32, tourney_level='I', tourney_date=20200106, match_num=296, winner_id=216153, winner_seed=3, winner_entry=None, winner_name='Amanda Anisimova', winner_hand='R', winner_ht=None, winner_ioc='USA', winner_age=18.3490759754, loser_id=202446, loser_seed=None, loser_entry='WC', loser_name='Eugenie Bouchard', loser_hand='R', loser_ht=None, loser_ioc='CAN', loser_age=25.8617385352, score='6-2 3-6 6-4', best_of=3, round='QF', minutes=116, w_ace=1, w_df=2, w_svpt=94, w_1stIn=63, w_1stWon=32, w_2ndWon=17, w_SvGms=14, w_bpSaved=6, w_bpFaced=12, l_ace=0, l_df=3, l_svpt=89, l_1stIn=62, l_1stWon=35, l_2ndWon=8, l_SvGms=13, l_bpSaved=11, l_bpFaced=18, winner_rank=25, winner_rank_points=1734, loser_rank=262, loser_rank_points=223)]"
            ]
          },
          "metadata": {},
          "execution_count": 8
        }
      ],
      "source": [
        "df.head(5)"
      ]
    },
    {
      "cell_type": "code",
      "execution_count": 9,
      "metadata": {
        "colab": {
          "base_uri": "https://localhost:8080/"
        },
        "id": "LdrjqkEgBwv8",
        "outputId": "f24ce245-27aa-49ee-bdb4-2ea9aa23a2b1"
      },
      "outputs": [
        {
          "output_type": "stream",
          "name": "stdout",
          "text": [
            "+----------+------------+-------+---------+-------------+------------+---------+---------+-----------+------------+------------------+-----------+---------+----------+-------------+--------+----------+-----------+-------------------+----------+--------+---------+-------------+-----------+-------+-----+-------+-----+----+------+-------+--------+--------+-------+---------+---------+-----+----+------+-------+--------+--------+-------+---------+---------+-----------+------------------+----------+-----------------+\n",
            "|tourney_id|tourney_name|surface|draw_size|tourney_level|tourney_date|match_num|winner_id|winner_seed|winner_entry|       winner_name|winner_hand|winner_ht|winner_ioc|   winner_age|loser_id|loser_seed|loser_entry|         loser_name|loser_hand|loser_ht|loser_ioc|    loser_age|      score|best_of|round|minutes|w_ace|w_df|w_svpt|w_1stIn|w_1stWon|w_2ndWon|w_SvGms|w_bpSaved|w_bpFaced|l_ace|l_df|l_svpt|l_1stIn|l_1stWon|l_2ndWon|l_SvGms|l_bpSaved|l_bpFaced|winner_rank|winner_rank_points|loser_rank|loser_rank_points|\n",
            "+----------+------------+-------+---------+-------------+------------+---------+---------+-----------+------------+------------------+-----------+---------+----------+-------------+--------+----------+-----------+-------------------+----------+--------+---------+-------------+-----------+-------+-----+-------+-----+----+------+-------+--------+--------+-------+---------+---------+-----+----+------+-------+--------+--------+-------+---------+---------+-----------+------------------+----------+-----------------+\n",
            "| 2020-1049|    Auckland|   Hard|       32|            I|    20200106|      300|   200033|          1|        NULL|   Serena Williams|          R|      175|       USA|38.2778918549|  202468|      NULL|       NULL|     Jessica Pegula|         R|    NULL|      USA| 25.864476386|    6-3 6-4|      3|    F|     95|    2|   0|    66|     43|      31|      14|     10|        4|        5|    4|   3|    80|     50|      31|      12|      9|       12|       15|         10|              3935|        82|              743|\n",
            "| 2020-1049|    Auckland|   Hard|       32|            I|    20200106|      299|   200033|          1|        NULL|   Serena Williams|          R|      175|       USA|38.2778918549|  216153|         3|       NULL|   Amanda Anisimova|         R|    NULL|      USA|18.3490759754|    6-1 6-1|      3|   SF|     43|    5|   0|    38|     26|      20|       9|      7|        1|        1|    1|   3|    36|     22|      12|       2|      7|        0|        5|         10|              3935|        25|             1734|\n",
            "| 2020-1049|    Auckland|   Hard|       32|            I|    20200106|      298|   202468|       NULL|        NULL|    Jessica Pegula|          R|     NULL|       USA| 25.864476386|  201496|         5|       NULL| Caroline Wozniacki|         R|     177|      DEN|29.4893908282|3-6 6-4 6-0|      3|   SF|    113|    2|   3|    86|     54|      37|      16|     12|        6|        9|    4|   3|    79|     56|      34|       9|     13|        7|       13|         82|               743|        39|             1353|\n",
            "| 2020-1049|    Auckland|   Hard|       32|            I|    20200106|      297|   200033|          1|        NULL|   Serena Williams|          R|      175|       USA|38.2778918549|  201696|      NULL|       NULL|    Laura Siegemund|         R|    NULL|      GER|31.8412046543|    6-4 6-3|      3|   QF|     88|    6|   3|    60|     34|      25|      15|     10|        5|        6|    1|   1|    55|     45|      26|       5|      9|        1|        4|         10|              3935|        73|              805|\n",
            "| 2020-1049|    Auckland|   Hard|       32|            I|    20200106|      296|   216153|          3|        NULL|  Amanda Anisimova|          R|     NULL|       USA|18.3490759754|  202446|      NULL|         WC|   Eugenie Bouchard|         R|    NULL|      CAN|25.8617385352|6-2 3-6 6-4|      3|   QF|    116|    1|   2|    94|     63|      32|      17|     14|        6|       12|    0|   3|    89|     62|      35|       8|     13|       11|       18|         25|              1734|       262|              223|\n",
            "| 2020-1049|    Auckland|   Hard|       32|            I|    20200106|      295|   201496|          5|        NULL|Caroline Wozniacki|          R|      177|       DEN|29.4893908282|  201504|         4|       NULL|      Julia Goerges|         R|     180|      GER|31.1759069131|    6-1 6-4|      3|   QF|     75|    4|   1|    67|     50|      37|       8|      9|        3|        3|    2|   5|    49|     28|      20|       8|      8|        5|        8|         39|              1353|        41|             1331|\n",
            "| 2020-1049|    Auckland|   Hard|       32|            I|    20200106|      294|   202468|       NULL|        NULL|    Jessica Pegula|          R|     NULL|       USA| 25.864476386|  201427|      NULL|       NULL|       Alize Cornet|         R|     173|      FRA| 29.954825462|6-0 3-2 RET|      3|   QF|     48|    0|   1|    25|     14|      12|       8|      5|        0|        0|    0|   4|    44|     26|      13|       7|      6|        6|       10|         82|               743|        57|             1015|\n",
            "| 2020-1049|    Auckland|   Hard|       32|            I|    20200106|      293|   200033|          1|        NULL|   Serena Williams|          R|      175|       USA|38.2778918549|  201539|      NULL|       NULL|   Christina Mchale|         R|     170|      USA|27.6550308008|3-6 6-2 6-3|      3|  R16|    120|    5|   1|    84|     56|      32|      17|     13|        5|        9|    5|   3|    82|     56|      29|      13|     13|        6|       12|         10|              3935|        86|              720|\n",
            "| 2020-1049|    Auckland|   Hard|       32|            I|    20200106|      292|   201696|       NULL|        NULL|   Laura Siegemund|          R|     NULL|       GER|31.8412046543|  221103|      NULL|       NULL|         Cori Gauff|         R|    NULL|      USA|15.8165639973|5-7 6-2 6-3|      3|  R16|    134|    1|   2|    75|     56|      34|      12|     14|        2|        7|    2|   7|    83|     52|      29|      12|     15|        5|       13|         73|               805|        67|              855|\n",
            "| 2020-1049|    Auckland|   Hard|       32|            I|    20200106|      291|   216153|          3|        NULL|  Amanda Anisimova|          R|     NULL|       USA|18.3490759754|  214082|      NULL|       NULL|    Darya Kasatkina|         R|    NULL|      RUS|22.6666666667|    6-2 6-4|      3|  R16|     73|    2|   3|    58|     36|      21|       8|      9|        3|        7|    1|   5|    61|     37|      17|       7|      9|        1|        8|         25|              1734|        70|              851|\n",
            "| 2020-1049|    Auckland|   Hard|       32|            I|    20200106|      290|   202446|       NULL|          WC|  Eugenie Bouchard|          R|     NULL|       CAN|25.8617385352|  201614|         8|       NULL|    Caroline Garcia|         R|    NULL|      FRA|26.2231348392|    6-4 6-4|      3|  R16|     88|    2|   1|    61|     40|      29|      12|     10|        4|        5|    3|   0|    65|     47|      29|       9|     10|        8|       11|        262|               223|        46|             1235|\n",
            "| 2020-1049|    Auckland|   Hard|       32|            I|    20200106|      289|   201496|          5|        NULL|Caroline Wozniacki|          R|      177|       DEN|29.4893908282|  201616|      NULL|       NULL|       Lauren Davis|         R|     157|      USA|26.2422997947|6-1 4-6 6-4|      3|  R16|    139|    4|   1|   104|     67|      38|      20|     14|       10|       15|    2|   3|    81|     58|      32|       8|     13|        4|       11|         39|              1353|        63|              874|\n",
            "| 2020-1049|    Auckland|   Hard|       32|            I|    20200106|      288|   201504|          4|        NULL|     Julia Goerges|          R|      180|       GER|31.1759069131|  213525|      NULL|       NULL|Jil Belen Teichmann|         L|    NULL|      SUI|22.4777549624|    6-3 6-2|      3|  R16|     78|    2|   2|    50|     31|      24|      12|      8|        3|        3|    2|   2|    59|     37|      23|       8|      9|        4|        8|         41|              1331|        68|              855|\n",
            "| 2020-1049|    Auckland|   Hard|       32|            I|    20200106|      287|   202468|       NULL|        NULL|    Jessica Pegula|          R|     NULL|       USA| 25.864476386|  214461|      NULL|       NULL|    Tamara Zidansek|         R|    NULL|      SLO|22.0287474333|    6-2 6-3|      3|  R16|     61|    2|   1|    44|     27|      24|      10|      8|        0|        0|    0|   2|    55|     33|      20|       8|      9|        3|        7|         82|               743|        64|              870|\n",
            "| 2020-1049|    Auckland|   Hard|       32|            I|    20200106|      286|   201427|       NULL|        NULL|      Alize Cornet|          R|      173|       FRA| 29.954825462|  201549|         2|       NULL|       Petra Martic|         R|     181|      CRO|28.9637234771|3-6 6-4 6-4|      3|  R16|    136|    3|   3|    95|     60|      45|      18|     15|        6|        8|    5|   2|    77|     41|      30|      24|     14|        3|        5|         57|              1015|        15|             2617|\n",
            "| 2020-1049|    Auckland|   Hard|       32|            I|    20200106|      285|   200033|          1|        NULL|   Serena Williams|          R|      175|       USA|38.2778918549|  202429|      NULL|          Q|      Camila Giorgi|         R|     168|      ITA|28.0191649555|    6-3 6-2|      3|  R32|     68|    8|   0|    54|     40|      31|       9|      9|        3|        3|    1|   4|    48|     25|      16|      11|      8|        2|        5|         10|              3935|        99|              680|\n",
            "| 2020-1049|    Auckland|   Hard|       32|            I|    20200106|      284|   201539|       NULL|        NULL|  Christina Mchale|          R|      170|       USA|27.6550308008|  215983|      NULL|          Q|             Ann Li|         U|    NULL|      USA|19.5290896646|    7-5 6-2|      3|  R32|     92|    1|   2|    66|     40|      28|      12|     10|        9|       12|    1|   1|    63|     46|      24|       5|     10|        3|        9|         86|               720|       145|              414|\n",
            "| 2020-1049|    Auckland|   Hard|       32|            I|    20200106|      283|   221103|       NULL|        NULL|        Cori Gauff|          R|     NULL|       USA|15.8165639973|  214149|      NULL|       NULL|   Viktoria Kuzmova|         R|    NULL|      SVK|21.6563997262|    6-3 6-1|      3|  R32|     61|    4|   5|    56|     36|      29|       9|      8|        3|        3|    2|   3|    41|     26|      15|       6|      8|        0|        4|         67|               855|        61|              965|\n",
            "| 2020-1049|    Auckland|   Hard|       32|            I|    20200106|      282|   201696|       NULL|        NULL|   Laura Siegemund|          R|     NULL|       GER|31.8412046543|  216083|      NULL|         LL|       Caty Mcnally|         R|    NULL|      USA|18.1273100616|    6-2 6-2|      3|  R32|     86|    2|   3|    43|     30|      21|       8|      8|        1|        3|    0|   2|    51|     27|      13|       8|      8|        2|        8|         73|               805|       118|              539|\n",
            "| 2020-1049|    Auckland|   Hard|       32|            I|    20200106|      281|   216153|          3|        NULL|  Amanda Anisimova|          R|     NULL|       USA|18.3490759754|  203462|      NULL|       NULL|   Kateryna Kozlova|         R|    NULL|      UKR|25.8754277892|    6-3 6-4|      3|  R32|     78|    0|   0|    64|     43|      26|      11|     10|        6|        9|    3|   2|    61|     42|      22|       7|      9|        3|        8|         25|              1734|        89|              710|\n",
            "+----------+------------+-------+---------+-------------+------------+---------+---------+-----------+------------+------------------+-----------+---------+----------+-------------+--------+----------+-----------+-------------------+----------+--------+---------+-------------+-----------+-------+-----+-------+-----+----+------+-------+--------+--------+-------+---------+---------+-----+----+------+-------+--------+--------+-------+---------+---------+-----------+------------------+----------+-----------------+\n",
            "only showing top 20 rows\n",
            "\n"
          ]
        }
      ],
      "source": [
        "df.show()"
      ]
    },
    {
      "cell_type": "code",
      "execution_count": 10,
      "metadata": {
        "id": "vVfPdRcSB9He",
        "colab": {
          "base_uri": "https://localhost:8080/"
        },
        "outputId": "25dcf266-572c-459a-bd61-ab68339eb9e0"
      },
      "outputs": [
        {
          "output_type": "stream",
          "name": "stdout",
          "text": [
            "root\n",
            " |-- tourney_id: string (nullable = true)\n",
            " |-- tourney_name: string (nullable = true)\n",
            " |-- surface: string (nullable = true)\n",
            " |-- draw_size: integer (nullable = true)\n",
            " |-- tourney_level: string (nullable = true)\n",
            " |-- tourney_date: integer (nullable = true)\n",
            " |-- match_num: integer (nullable = true)\n",
            " |-- winner_id: integer (nullable = true)\n",
            " |-- winner_seed: integer (nullable = true)\n",
            " |-- winner_entry: string (nullable = true)\n",
            " |-- winner_name: string (nullable = true)\n",
            " |-- winner_hand: string (nullable = true)\n",
            " |-- winner_ht: integer (nullable = true)\n",
            " |-- winner_ioc: string (nullable = true)\n",
            " |-- winner_age: double (nullable = true)\n",
            " |-- loser_id: integer (nullable = true)\n",
            " |-- loser_seed: integer (nullable = true)\n",
            " |-- loser_entry: string (nullable = true)\n",
            " |-- loser_name: string (nullable = true)\n",
            " |-- loser_hand: string (nullable = true)\n",
            " |-- loser_ht: integer (nullable = true)\n",
            " |-- loser_ioc: string (nullable = true)\n",
            " |-- loser_age: double (nullable = true)\n",
            " |-- score: string (nullable = true)\n",
            " |-- best_of: integer (nullable = true)\n",
            " |-- round: string (nullable = true)\n",
            " |-- minutes: integer (nullable = true)\n",
            " |-- w_ace: integer (nullable = true)\n",
            " |-- w_df: integer (nullable = true)\n",
            " |-- w_svpt: integer (nullable = true)\n",
            " |-- w_1stIn: integer (nullable = true)\n",
            " |-- w_1stWon: integer (nullable = true)\n",
            " |-- w_2ndWon: integer (nullable = true)\n",
            " |-- w_SvGms: integer (nullable = true)\n",
            " |-- w_bpSaved: integer (nullable = true)\n",
            " |-- w_bpFaced: integer (nullable = true)\n",
            " |-- l_ace: integer (nullable = true)\n",
            " |-- l_df: integer (nullable = true)\n",
            " |-- l_svpt: integer (nullable = true)\n",
            " |-- l_1stIn: integer (nullable = true)\n",
            " |-- l_1stWon: integer (nullable = true)\n",
            " |-- l_2ndWon: integer (nullable = true)\n",
            " |-- l_SvGms: integer (nullable = true)\n",
            " |-- l_bpSaved: integer (nullable = true)\n",
            " |-- l_bpFaced: integer (nullable = true)\n",
            " |-- winner_rank: integer (nullable = true)\n",
            " |-- winner_rank_points: integer (nullable = true)\n",
            " |-- loser_rank: integer (nullable = true)\n",
            " |-- loser_rank_points: integer (nullable = true)\n",
            "\n"
          ]
        }
      ],
      "source": [
        "df.printSchema()"
      ]
    },
    {
      "cell_type": "markdown",
      "metadata": {
        "id": "a6OHeNBSCufM"
      },
      "source": [
        "# 2 Simple analysis"
      ]
    },
    {
      "cell_type": "markdown",
      "metadata": {
        "id": "RqP_LJ3qHQon"
      },
      "source": [
        "## What are the ages of the youngest and oldest players?"
      ]
    },
    {
      "cell_type": "code",
      "execution_count": 11,
      "metadata": {
        "colab": {
          "base_uri": "https://localhost:8080/"
        },
        "id": "cLfDjxLFCTrK",
        "outputId": "20c9c9f9-5208-4c1c-bebb-af2e02fac0d0"
      },
      "outputs": [
        {
          "output_type": "stream",
          "name": "stdout",
          "text": [
            "+-------------+------------------+-----------+-------------------+-------------+----------+\n",
            "|   winner_age|       winner_name|winner_rank|         loser_name|    loser_age|loser_rank|\n",
            "+-------------+------------------+-----------+-------------------+-------------+----------+\n",
            "|38.2778918549|   Serena Williams|         10|     Jessica Pegula| 25.864476386|        82|\n",
            "|38.2778918549|   Serena Williams|         10|   Amanda Anisimova|18.3490759754|        25|\n",
            "| 25.864476386|    Jessica Pegula|         82| Caroline Wozniacki|29.4893908282|        39|\n",
            "|38.2778918549|   Serena Williams|         10|    Laura Siegemund|31.8412046543|        73|\n",
            "|18.3490759754|  Amanda Anisimova|         25|   Eugenie Bouchard|25.8617385352|       262|\n",
            "|29.4893908282|Caroline Wozniacki|         39|      Julia Goerges|31.1759069131|        41|\n",
            "| 25.864476386|    Jessica Pegula|         82|       Alize Cornet| 29.954825462|        57|\n",
            "|38.2778918549|   Serena Williams|         10|   Christina Mchale|27.6550308008|        86|\n",
            "|31.8412046543|   Laura Siegemund|         73|         Cori Gauff|15.8165639973|        67|\n",
            "|18.3490759754|  Amanda Anisimova|         25|    Darya Kasatkina|22.6666666667|        70|\n",
            "|25.8617385352|  Eugenie Bouchard|        262|    Caroline Garcia|26.2231348392|        46|\n",
            "|29.4893908282|Caroline Wozniacki|         39|       Lauren Davis|26.2422997947|        63|\n",
            "|31.1759069131|     Julia Goerges|         41|Jil Belen Teichmann|22.4777549624|        68|\n",
            "| 25.864476386|    Jessica Pegula|         82|    Tamara Zidansek|22.0287474333|        64|\n",
            "| 29.954825462|      Alize Cornet|         57|       Petra Martic|28.9637234771|        15|\n",
            "|38.2778918549|   Serena Williams|         10|      Camila Giorgi|28.0191649555|        99|\n",
            "|27.6550308008|  Christina Mchale|         86|             Ann Li|19.5290896646|       145|\n",
            "|15.8165639973|        Cori Gauff|         67|   Viktoria Kuzmova|21.6563997262|        61|\n",
            "|31.8412046543|   Laura Siegemund|         73|       Caty Mcnally|18.1273100616|       118|\n",
            "|18.3490759754|  Amanda Anisimova|         25|   Kateryna Kozlova|25.8754277892|        89|\n",
            "+-------------+------------------+-----------+-------------------+-------------+----------+\n",
            "only showing top 20 rows\n",
            "\n"
          ]
        }
      ],
      "source": [
        "# Analysing the age of players\n",
        "df_age = df.select('winner_age','winner_name','winner_rank','loser_name','loser_age','loser_rank')\n",
        "df_age.show()"
      ]
    },
    {
      "cell_type": "code",
      "execution_count": 12,
      "metadata": {
        "colab": {
          "base_uri": "https://localhost:8080/"
        },
        "id": "p641xSahVF5g",
        "outputId": "0ae6bcab-ee8c-4d01-afcf-e9ba7c0bed25"
      },
      "outputs": [
        {
          "output_type": "stream",
          "name": "stdout",
          "text": [
            "+-------+------------------+----------------+------------------+----------------+-----------------+------------------+\n",
            "|summary|        winner_age|     winner_name|       winner_rank|      loser_name|        loser_age|        loser_rank|\n",
            "+-------+------------------+----------------+------------------+----------------+-----------------+------------------+\n",
            "|  count|               793|             797|               772|             797|              788|               742|\n",
            "|   mean|25.290777534085205|            NULL|118.81994818652849|            NULL|25.42839373629742|  157.088948787062|\n",
            "| stddev| 4.176552379723018|            NULL|166.08683043389414|            NULL|4.413103987509286|191.19066561928724|\n",
            "|    min|     15.8165639973|Ajla Tomljanovic|                 1|Ajla Tomljanovic|    14.3299110198|                 1|\n",
            "|    max|     38.3655030801|    Zarina Diyas|              1168|    Zarina Diyas|    39.7070499658|              1168|\n",
            "+-------+------------------+----------------+------------------+----------------+-----------------+------------------+\n",
            "\n"
          ]
        }
      ],
      "source": [
        "df_age.describe().show()"
      ]
    },
    {
      "cell_type": "code",
      "execution_count": 13,
      "metadata": {
        "colab": {
          "base_uri": "https://localhost:8080/"
        },
        "id": "pm76AE-DC8Oi",
        "outputId": "e0ac3570-5cc4-45c2-9abd-3ea8f7aa79ad"
      },
      "outputs": [
        {
          "output_type": "stream",
          "name": "stdout",
          "text": [
            "+-------------+-----------+-----------+----------------+-------------+----------+\n",
            "|   winner_age|winner_name|winner_rank|      loser_name|    loser_age|loser_rank|\n",
            "+-------------+-----------+-----------+----------------+-------------+----------+\n",
            "|15.8165639973| Cori Gauff|         67|Viktoria Kuzmova|21.6563997262|        61|\n",
            "|15.8548939083| Cori Gauff|         67|     Naomi Osaka|22.2614647502|         4|\n",
            "|15.8548939083| Cori Gauff|         67|  Venus Williams|39.5920602327|        55|\n",
            "|15.8548939083| Cori Gauff|         67|  Sorana Cirstea| 29.787816564|        74|\n",
            "+-------------+-----------+-----------+----------------+-------------+----------+\n",
            "\n",
            "+-------------+---------------+-----------+------------------+-------------+----------+\n",
            "|   winner_age|    winner_name|winner_rank|        loser_name|    loser_age|loser_rank|\n",
            "+-------------+---------------+-----------+------------------+-------------+----------+\n",
            "|38.2778918549|Serena Williams|         10|    Jessica Pegula| 25.864476386|        82|\n",
            "|38.2778918549|Serena Williams|         10|  Amanda Anisimova|18.3490759754|        25|\n",
            "|38.2778918549|Serena Williams|         10|   Laura Siegemund|31.8412046543|        73|\n",
            "|38.2778918549|Serena Williams|         10|  Christina Mchale|27.6550308008|        86|\n",
            "|38.2778918549|Serena Williams|         10|     Camila Giorgi|28.0191649555|        99|\n",
            "|38.3162217659|Serena Williams|          9|Anastasia Potapova|18.8090349076|        90|\n",
            "|38.3162217659|Serena Williams|          9|   Tamara Zidansek|22.0670773443|        70|\n",
            "|38.3655030801|Serena Williams|          9|  Jelena Ostapenko|22.6666666667|        40|\n",
            "+-------------+---------------+-----------+------------------+-------------+----------+\n",
            "\n"
          ]
        }
      ],
      "source": [
        "# Finding the 16 year old player\n",
        "\n",
        "filter_younger = df_age.filter(df['winner_age'] <= 16)\n",
        "filter_older = df_age.filter(df['winner_age'] >= 38)\n",
        "\n",
        "filter_younger.show()\n",
        "filter_older.show()"
      ]
    },
    {
      "cell_type": "markdown",
      "metadata": {
        "id": "nTuwnP7vHc78"
      },
      "source": [
        "## Who has the highest number of wins ans losses?"
      ]
    },
    {
      "cell_type": "code",
      "execution_count": 14,
      "metadata": {
        "colab": {
          "base_uri": "https://localhost:8080/"
        },
        "id": "ETWHmp-ADWhJ",
        "outputId": "d40f309e-f4ab-4ae4-f9a3-013cef02dc00"
      },
      "outputs": [
        {
          "output_type": "stream",
          "name": "stdout",
          "text": [
            "+------------------+-------------------+\n",
            "|       winner_name|         loser_name|\n",
            "+------------------+-------------------+\n",
            "|   Serena Williams|     Jessica Pegula|\n",
            "|   Serena Williams|   Amanda Anisimova|\n",
            "|    Jessica Pegula| Caroline Wozniacki|\n",
            "|   Serena Williams|    Laura Siegemund|\n",
            "|  Amanda Anisimova|   Eugenie Bouchard|\n",
            "|Caroline Wozniacki|      Julia Goerges|\n",
            "|    Jessica Pegula|       Alize Cornet|\n",
            "|   Serena Williams|   Christina Mchale|\n",
            "|   Laura Siegemund|         Cori Gauff|\n",
            "|  Amanda Anisimova|    Darya Kasatkina|\n",
            "|  Eugenie Bouchard|    Caroline Garcia|\n",
            "|Caroline Wozniacki|       Lauren Davis|\n",
            "|     Julia Goerges|Jil Belen Teichmann|\n",
            "|    Jessica Pegula|    Tamara Zidansek|\n",
            "|      Alize Cornet|       Petra Martic|\n",
            "|   Serena Williams|      Camila Giorgi|\n",
            "|  Christina Mchale|             Ann Li|\n",
            "|        Cori Gauff|   Viktoria Kuzmova|\n",
            "|   Laura Siegemund|       Caty Mcnally|\n",
            "|  Amanda Anisimova|   Kateryna Kozlova|\n",
            "+------------------+-------------------+\n",
            "only showing top 20 rows\n",
            "\n"
          ]
        }
      ],
      "source": [
        "df_wl = df.select('winner_name','loser_name')\n",
        "df_wl.show()"
      ]
    },
    {
      "cell_type": "code",
      "execution_count": 15,
      "metadata": {
        "colab": {
          "base_uri": "https://localhost:8080/"
        },
        "id": "eB_dH7u8E-zo",
        "outputId": "1d338e1a-37dd-43be-ae27-fbc5d746cc53"
      },
      "outputs": [
        {
          "output_type": "stream",
          "name": "stdout",
          "text": [
            "+--------------------+----------+\n",
            "|         winner_name|Win_Amount|\n",
            "+--------------------+----------+\n",
            "|      Elena Rybakina|        21|\n",
            "|    Garbine Muguruza|        16|\n",
            "|         Sofia Kenin|        15|\n",
            "|          Ons Jabeur|        13|\n",
            "|        Kiki Bertens|        12|\n",
            "|     Anett Kontaveit|        12|\n",
            "|Ekaterina Alexand...|        12|\n",
            "|     Aryna Sabalenka|        12|\n",
            "|       Petra Kvitova|        12|\n",
            "|      Ashleigh Barty|        12|\n",
            "|     Elina Svitolina|        11|\n",
            "|       Elise Mertens|        11|\n",
            "|          Qiang Wang|        11|\n",
            "|   Dayana Yastremska|        10|\n",
            "|        Saisai Zheng|        10|\n",
            "|      Heather Watson|        10|\n",
            "|        Simona Halep|        10|\n",
            "|       Magda Linette|         9|\n",
            "|         Shuai Zhang|         9|\n",
            "|       Maria Sakkari|         9|\n",
            "+--------------------+----------+\n",
            "only showing top 20 rows\n",
            "\n"
          ]
        }
      ],
      "source": [
        "# Displays the amount of wins by players\n",
        "df_winners = df_wl.groupBy('winner_name').count().orderBy('count', ascending=False).withColumnRenamed('count','Win_Amount')\n",
        "\n",
        "df_winners.show()"
      ]
    },
    {
      "cell_type": "code",
      "execution_count": 16,
      "metadata": {
        "colab": {
          "base_uri": "https://localhost:8080/"
        },
        "id": "B-R8iOuhPBtn",
        "outputId": "cea45da8-aecb-431d-c89b-f7c6c241f339"
      },
      "outputs": [
        {
          "output_type": "stream",
          "name": "stdout",
          "text": [
            "+--------------------+-----------+\n",
            "|          loser_name|Loss_Amount|\n",
            "+--------------------+-----------+\n",
            "|     Tamara Zidansek|          8|\n",
            "|Veronika Kudermetova|          7|\n",
            "|      Belinda Bencic|          7|\n",
            "|    Christina Mchale|          6|\n",
            "|             Lin Zhu|          6|\n",
            "|     Nina Stojanovic|          6|\n",
            "|  Katerina Siniakova|          6|\n",
            "|     Elina Svitolina|          6|\n",
            "|     Darya Kasatkina|          6|\n",
            "|       Maria Sakkari|          6|\n",
            "|Anastasija Sevastova|          6|\n",
            "|          Yafan Wang|          6|\n",
            "|    Yulia Putintseva|          6|\n",
            "|     Caroline Garcia|          6|\n",
            "|          Qiang Wang|          6|\n",
            "|       Tatjana Maria|          5|\n",
            "| Jil Belen Teichmann|          5|\n",
            "| Alison Van Uytvanck|          5|\n",
            "|    Garbine Muguruza|          5|\n",
            "|       Priscilla Hon|          5|\n",
            "+--------------------+-----------+\n",
            "only showing top 20 rows\n",
            "\n"
          ]
        }
      ],
      "source": [
        "# Displays the amount of losses by players\n",
        "df_losers = df_wl.groupby('loser_name').count().orderBy('count', ascending = False).withColumnRenamed(\"count\",\"Loss_Amount\")\n",
        "\n",
        "df_losers.show()"
      ]
    }
  ],
  "metadata": {
    "colab": {
      "provenance": []
    },
    "kernelspec": {
      "display_name": "Python 3",
      "name": "python3"
    }
  },
  "nbformat": 4,
  "nbformat_minor": 0
}